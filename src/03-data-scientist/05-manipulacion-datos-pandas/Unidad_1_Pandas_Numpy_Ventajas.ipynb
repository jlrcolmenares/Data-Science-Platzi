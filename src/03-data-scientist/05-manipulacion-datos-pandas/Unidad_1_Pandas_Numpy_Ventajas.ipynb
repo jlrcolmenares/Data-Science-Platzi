{
  "nbformat": 4,
  "nbformat_minor": 0,
  "metadata": {
    "colab": {
      "name": "Unidad 1 - Pandas / Numpy / Ventajas",
      "provenance": [],
      "collapsed_sections": [],
      "authorship_tag": "ABX9TyNSLJ+MTT3jqhBYj+dAYTDb",
      "include_colab_link": true
    },
    "kernelspec": {
      "name": "python3",
      "display_name": "Python 3"
    }
  },
  "cells": [
    {
      "cell_type": "markdown",
      "metadata": {
        "id": "view-in-github",
        "colab_type": "text"
      },
      "source": [
        "<a href=\"https://colab.research.google.com/github/joseluisramon/Data-Science-Platzi/blob/master/src/03-advanced/18-manipulacion-datos-pandas/Unidad_1_Pandas_Numpy_Ventajas.ipynb\" target=\"_parent\"><img src=\"https://colab.research.google.com/assets/colab-badge.svg\" alt=\"Open In Colab\"/></a>"
      ]
    },
    {
      "cell_type": "markdown",
      "metadata": {
        "id": "C2zTR72wdVmz",
        "colab_type": "text"
      },
      "source": [
        "# Curso de Manipulación de Datos con Pandas - Prof. David Torres\n",
        "\n"
      ]
    },
    {
      "cell_type": "markdown",
      "metadata": {
        "id": "fMY0J2b_diuU",
        "colab_type": "text"
      },
      "source": [
        "## Unidad 1. ¿Qué es Pandas? "
      ]
    },
    {
      "cell_type": "markdown",
      "metadata": {
        "id": "lvYqEM5xfVkL",
        "colab_type": "text"
      },
      "source": [
        "Tenemos la librería Numpy"
      ]
    },
    {
      "cell_type": "code",
      "metadata": {
        "id": "sZ4BLUd9dWbW",
        "colab_type": "code",
        "colab": {}
      },
      "source": [
        "import numpy as np"
      ],
      "execution_count": 0,
      "outputs": []
    },
    {
      "cell_type": "code",
      "metadata": {
        "id": "Nu6BQ0nhe1Po",
        "colab_type": "code",
        "outputId": "c3bbd165-8b16-4512-d2ac-5bc13c91c478",
        "colab": {
          "base_uri": "https://localhost:8080/",
          "height": 34
        }
      },
      "source": [
        "np.array([1,2,3,4,5]) + 10 # numpy opera sobre todo el arreglo"
      ],
      "execution_count": 0,
      "outputs": [
        {
          "output_type": "execute_result",
          "data": {
            "text/plain": [
              "array([11, 12, 13, 14, 15])"
            ]
          },
          "metadata": {
            "tags": []
          },
          "execution_count": 10
        }
      ]
    },
    {
      "cell_type": "code",
      "metadata": {
        "id": "pX2CTbvgeCv9",
        "colab_type": "code",
        "outputId": "4c4083e7-8e46-45b7-86dc-eca29396fff1",
        "colab": {
          "base_uri": "https://localhost:8080/",
          "height": 34
        }
      },
      "source": [
        "np.array([2,3,4,5,6]).shape # vectores"
      ],
      "execution_count": 0,
      "outputs": [
        {
          "output_type": "execute_result",
          "data": {
            "text/plain": [
              "(5,)"
            ]
          },
          "metadata": {
            "tags": []
          },
          "execution_count": 11
        }
      ]
    },
    {
      "cell_type": "code",
      "metadata": {
        "id": "svSztJnpe9fb",
        "colab_type": "code",
        "outputId": "65b2efeb-c839-417f-a053-ccfe3dd3c72e",
        "colab": {
          "base_uri": "https://localhost:8080/",
          "height": 34
        }
      },
      "source": [
        "np.array([[1,2,3,4],[5,6,7,8]]).shape # matrices (listas dentro de listas)"
      ],
      "execution_count": 0,
      "outputs": [
        {
          "output_type": "execute_result",
          "data": {
            "text/plain": [
              "(2, 4)"
            ]
          },
          "metadata": {
            "tags": []
          },
          "execution_count": 12
        }
      ]
    },
    {
      "cell_type": "code",
      "metadata": {
        "id": "uMk0ZmaUfCIE",
        "colab_type": "code",
        "outputId": "a04573c2-32a3-4f92-e0b7-f5c60a8a9984",
        "colab": {
          "base_uri": "https://localhost:8080/",
          "height": 34
        }
      },
      "source": [
        "np.array([[1,2,3,4,],[5,6,7,8]] )[0] "
      ],
      "execution_count": 0,
      "outputs": [
        {
          "output_type": "execute_result",
          "data": {
            "text/plain": [
              "array([1, 2, 3, 4])"
            ]
          },
          "metadata": {
            "tags": []
          },
          "execution_count": 13
        }
      ]
    },
    {
      "cell_type": "code",
      "metadata": {
        "id": "Av-334t5fN_Q",
        "colab_type": "code",
        "outputId": "6bb6bc11-d1ee-48a2-c7a4-d318964cfdaf",
        "colab": {
          "base_uri": "https://localhost:8080/",
          "height": 34
        }
      },
      "source": [
        "np.array([[1,2,3,4,],[5,6,7,8]] )[0][1] "
      ],
      "execution_count": 0,
      "outputs": [
        {
          "output_type": "execute_result",
          "data": {
            "text/plain": [
              "2"
            ]
          },
          "metadata": {
            "tags": []
          },
          "execution_count": 14
        }
      ]
    },
    {
      "cell_type": "code",
      "metadata": {
        "id": "T5Zz25jUfP3z",
        "colab_type": "code",
        "outputId": "3013fa47-3054-4c5a-eeb7-392aa208888a",
        "colab": {
          "base_uri": "https://localhost:8080/",
          "height": 51
        }
      },
      "source": [
        "np.array([[1,2,3,4,],[5,6,7,8]]) + 10"
      ],
      "execution_count": 0,
      "outputs": [
        {
          "output_type": "execute_result",
          "data": {
            "text/plain": [
              "array([[11, 12, 13, 14],\n",
              "       [15, 16, 17, 18]])"
            ]
          },
          "metadata": {
            "tags": []
          },
          "execution_count": 15
        }
      ]
    },
    {
      "cell_type": "markdown",
      "metadata": {
        "id": "U02isok1e73T",
        "colab_type": "text"
      },
      "source": [
        "Tenemos la librería Pandas"
      ]
    },
    {
      "cell_type": "code",
      "metadata": {
        "id": "ybLtJWI7fbGj",
        "colab_type": "code",
        "colab": {}
      },
      "source": [
        "import pandas as pd"
      ],
      "execution_count": 0,
      "outputs": []
    },
    {
      "cell_type": "code",
      "metadata": {
        "id": "nLx_jDn5j9IB",
        "colab_type": "code",
        "colab": {
          "base_uri": "https://localhost:8080/",
          "height": 119
        },
        "outputId": "0cc0cd17-9d0b-4636-dc76-7295bbbc8322"
      },
      "source": [
        "sr = pd.Series([10,9,8,7,6]) #elementos series. Es un elemento que tiene indexación\n",
        "sr"
      ],
      "execution_count": 21,
      "outputs": [
        {
          "output_type": "execute_result",
          "data": {
            "text/plain": [
              "0    10\n",
              "1     9\n",
              "2     8\n",
              "3     7\n",
              "4     6\n",
              "dtype: int64"
            ]
          },
          "metadata": {
            "tags": []
          },
          "execution_count": 21
        }
      ]
    },
    {
      "cell_type": "code",
      "metadata": {
        "id": "MQOmsIxCkQid",
        "colab_type": "code",
        "colab": {
          "base_uri": "https://localhost:8080/",
          "height": 34
        },
        "outputId": "a423e3b8-1b74-4743-aad8-1dfb66e71eaf"
      },
      "source": [
        "sr.values"
      ],
      "execution_count": 22,
      "outputs": [
        {
          "output_type": "execute_result",
          "data": {
            "text/plain": [
              "array([10,  9,  8,  7,  6])"
            ]
          },
          "metadata": {
            "tags": []
          },
          "execution_count": 22
        }
      ]
    },
    {
      "cell_type": "code",
      "metadata": {
        "id": "2o8782uAkTc5",
        "colab_type": "code",
        "colab": {
          "base_uri": "https://localhost:8080/",
          "height": 34
        },
        "outputId": "4d1094af-ba9d-4241-c787-d719bc5d7e85"
      },
      "source": [
        "sr.index #esto nos da información acerca del rango del objeto"
      ],
      "execution_count": 23,
      "outputs": [
        {
          "output_type": "execute_result",
          "data": {
            "text/plain": [
              "RangeIndex(start=0, stop=5, step=1)"
            ]
          },
          "metadata": {
            "tags": []
          },
          "execution_count": 23
        }
      ]
    },
    {
      "cell_type": "code",
      "metadata": {
        "id": "xSjTzpufkY11",
        "colab_type": "code",
        "colab": {
          "base_uri": "https://localhost:8080/",
          "height": 34
        },
        "outputId": "ea9dad3e-eca4-4296-d23b-1122eb50fc38"
      },
      "source": [
        "sr.shape"
      ],
      "execution_count": 24,
      "outputs": [
        {
          "output_type": "execute_result",
          "data": {
            "text/plain": [
              "(5,)"
            ]
          },
          "metadata": {
            "tags": []
          },
          "execution_count": 24
        }
      ]
    },
    {
      "cell_type": "code",
      "metadata": {
        "id": "pubsNo29ka33",
        "colab_type": "code",
        "colab": {
          "base_uri": "https://localhost:8080/",
          "height": 34
        },
        "outputId": "ae45acc1-71fa-47f2-a43c-b731cb0b27f5"
      },
      "source": [
        "sr[3] # te puedes guiar con la indexación"
      ],
      "execution_count": 25,
      "outputs": [
        {
          "output_type": "execute_result",
          "data": {
            "text/plain": [
              "7"
            ]
          },
          "metadata": {
            "tags": []
          },
          "execution_count": 25
        }
      ]
    },
    {
      "cell_type": "code",
      "metadata": {
        "id": "NCSm4G_Lnnie",
        "colab_type": "code",
        "colab": {}
      },
      "source": [
        ""
      ],
      "execution_count": 0,
      "outputs": []
    },
    {
      "cell_type": "code",
      "metadata": {
        "id": "q1kmGp9mkhNh",
        "colab_type": "code",
        "colab": {
          "base_uri": "https://localhost:8080/",
          "height": 85
        },
        "outputId": "156a8515-f5e6-43a0-a357-072bffb2b341"
      },
      "source": [
        "sr[[0,4,2]] # puedes seleccionar valores específicos dentro de una lista "
      ],
      "execution_count": 29,
      "outputs": [
        {
          "output_type": "execute_result",
          "data": {
            "text/plain": [
              "0    10\n",
              "4     6\n",
              "2     8\n",
              "dtype: int64"
            ]
          },
          "metadata": {
            "tags": []
          },
          "execution_count": 29
        }
      ]
    },
    {
      "cell_type": "code",
      "metadata": {
        "id": "GNyLd1yJnpz0",
        "colab_type": "code",
        "colab": {
          "base_uri": "https://localhost:8080/",
          "height": 119
        },
        "outputId": "2d3023cf-618e-464e-8a6d-e63f8856a1d2"
      },
      "source": [
        "r = pd.Series([10,9,8,7,6], index = ['a','b','c','d','e']) # se le pueden asignar índices específicos\n",
        "sr"
      ],
      "execution_count": 36,
      "outputs": [
        {
          "output_type": "execute_result",
          "data": {
            "text/plain": [
              "a    10\n",
              "b     9\n",
              "c     8\n",
              "d     7\n",
              "e     6\n",
              "dtype: int64"
            ]
          },
          "metadata": {
            "tags": []
          },
          "execution_count": 36
        }
      ]
    },
    {
      "cell_type": "code",
      "metadata": {
        "id": "nHvQo1GooUAy",
        "colab_type": "code",
        "colab": {
          "base_uri": "https://localhost:8080/",
          "height": 68
        },
        "outputId": "a4fc57ba-5b22-47a3-b6b0-17e49bf1b88b"
      },
      "source": [
        "sr[['c','e']] # puedo traer valores e indices. Es parecido a los dict de Python"
      ],
      "execution_count": 38,
      "outputs": [
        {
          "output_type": "execute_result",
          "data": {
            "text/plain": [
              "c    8\n",
              "e    6\n",
              "dtype: int64"
            ]
          },
          "metadata": {
            "tags": []
          },
          "execution_count": 38
        }
      ]
    },
    {
      "cell_type": "code",
      "metadata": {
        "id": "CdDFwMa6qcMQ",
        "colab_type": "code",
        "colab": {
          "base_uri": "https://localhost:8080/",
          "height": 34
        },
        "outputId": "c7c74d60-1645-4895-cedd-db36864c8dfa"
      },
      "source": [
        "dict_data = {'CO':100, 'MX':200, 'AR':300} # los diccionarios siguen un formato similar a JSON\n",
        "dict_data.keys(), dict_data.values()"
      ],
      "execution_count": 41,
      "outputs": [
        {
          "output_type": "execute_result",
          "data": {
            "text/plain": [
              "(dict_keys(['CO', 'MX', 'AR']), dict_values([100, 200, 300]))"
            ]
          },
          "metadata": {
            "tags": []
          },
          "execution_count": 41
        }
      ]
    },
    {
      "cell_type": "code",
      "metadata": {
        "id": "tnXzFW_QqvVm",
        "colab_type": "code",
        "colab": {
          "base_uri": "https://localhost:8080/",
          "height": 85
        },
        "outputId": "be986e78-eb4d-4864-bdb0-f92a0f50f258"
      },
      "source": [
        "pd.Series(dict_data) # Pero que sorpresa! Pandas es compatibles con diccionarios"
      ],
      "execution_count": 42,
      "outputs": [
        {
          "output_type": "execute_result",
          "data": {
            "text/plain": [
              "CO    100\n",
              "MX    200\n",
              "AR    300\n",
              "dtype: int64"
            ]
          },
          "metadata": {
            "tags": []
          },
          "execution_count": 42
        }
      ]
    },
    {
      "cell_type": "code",
      "metadata": {
        "id": "ersDenxYq-LX",
        "colab_type": "code",
        "colab": {
          "base_uri": "https://localhost:8080/",
          "height": 102
        },
        "outputId": "9835b6ca-a92e-4884-9b1b-1c6ead3fd9d0"
      },
      "source": [
        "sr = pd.Series(dict_data, index=['CO','MX','PE','AR'])\n",
        "sr\n",
        "# puedes definir nuevos elementos pero tendrán valores vacíos por no estar definidos previamente"
      ],
      "execution_count": 48,
      "outputs": [
        {
          "output_type": "execute_result",
          "data": {
            "text/plain": [
              "CO    100.0\n",
              "MX    200.0\n",
              "PE      NaN\n",
              "AR    300.0\n",
              "dtype: float64"
            ]
          },
          "metadata": {
            "tags": []
          },
          "execution_count": 48
        }
      ]
    },
    {
      "cell_type": "markdown",
      "metadata": {
        "id": "ymHn9BYFrXni",
        "colab_type": "text"
      },
      "source": [
        "Es importante conocer como funcionan los valores nulos para cuando se haga extracción desde una base de datos sabes que pasa con los valores nulos"
      ]
    },
    {
      "cell_type": "code",
      "metadata": {
        "id": "qD-DmbvIrUCH",
        "colab_type": "code",
        "colab": {
          "base_uri": "https://localhost:8080/",
          "height": 34
        },
        "outputId": "ecf172e9-0651-4793-e780-0820c47b4647"
      },
      "source": [
        "np.nan # objeto nulo de Numpy\n",
        "np.nan + 10 # observamos que las oepraciones aritméticas sobre un valor nulo dan resultado nulo"
      ],
      "execution_count": 44,
      "outputs": [
        {
          "output_type": "execute_result",
          "data": {
            "text/plain": [
              "nan"
            ]
          },
          "metadata": {
            "tags": []
          },
          "execution_count": 44
        }
      ]
    },
    {
      "cell_type": "code",
      "metadata": {
        "id": "xfSFvxPVr2VB",
        "colab_type": "code",
        "colab": {
          "base_uri": "https://localhost:8080/",
          "height": 102
        },
        "outputId": "a1986f6e-be3d-449d-f434-93521b42aa4e"
      },
      "source": [
        "# Pandas tiene un método para definir cuales valor son nulos\n",
        "sr.isnull()"
      ],
      "execution_count": 49,
      "outputs": [
        {
          "output_type": "execute_result",
          "data": {
            "text/plain": [
              "CO    False\n",
              "MX    False\n",
              "PE     True\n",
              "AR    False\n",
              "dtype: bool"
            ]
          },
          "metadata": {
            "tags": []
          },
          "execution_count": 49
        }
      ]
    },
    {
      "cell_type": "code",
      "metadata": {
        "id": "nm5hTT6TsHWE",
        "colab_type": "code",
        "colab": {
          "base_uri": "https://localhost:8080/",
          "height": 102
        },
        "outputId": "1e42c36d-0595-466c-ec46-e8d8ec53504f"
      },
      "source": [
        "# Pandas tiene otra función equivalente para los valores no nulos\n",
        "sr.notnull()"
      ],
      "execution_count": 50,
      "outputs": [
        {
          "output_type": "execute_result",
          "data": {
            "text/plain": [
              "CO     True\n",
              "MX     True\n",
              "PE    False\n",
              "AR     True\n",
              "dtype: bool"
            ]
          },
          "metadata": {
            "tags": []
          },
          "execution_count": 50
        }
      ]
    }
  ]
}